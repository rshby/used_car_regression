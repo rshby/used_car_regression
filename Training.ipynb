{
 "cells": [
  {
   "cell_type": "code",
   "execution_count": 13,
   "id": "8a151b2a",
   "metadata": {},
   "outputs": [],
   "source": [
    "from warnings import filterwarnings\n",
    "filterwarnings(\"ignore\")\n",
    "\n",
    "import pandas as pd\n",
    "import numpy as np\n",
    "import matplotlib.pyplot as plt\n",
    "import seaborn as sns\n",
    "sns.set_context(\"poster\")\n",
    "sns.set_palette(\"dark\")\n",
    "sns.set_style(\"white\")\n",
    "\n",
    "from sklearn.model_selection import train_test_split, RandomizedSearchCV\n",
    "from sklearn.impute import KNNImputer, SimpleImputer\n",
    "from sklearn.preprocessing import StandardScaler, OneHotEncoder\n",
    "from sklearn.pipeline import make_pipeline, Pipeline\n",
    "from sklearn.compose import ColumnTransformer, make_column_transformer\n",
    "from sklearn.linear_model import LinearRegression"
   ]
  },
  {
   "cell_type": "markdown",
   "id": "2298e384",
   "metadata": {},
   "source": [
    "# import dataset"
   ]
  },
  {
   "cell_type": "code",
   "execution_count": 9,
   "id": "cc8570be",
   "metadata": {},
   "outputs": [],
   "source": [
    "df = pd.read_feather(\"dataset/carUsedPriceFix.feather\")"
   ]
  },
  {
   "cell_type": "code",
   "execution_count": 11,
   "id": "2ebdb600",
   "metadata": {},
   "outputs": [
    {
     "data": {
      "text/plain": [
       "((61268, 8), (15318, 8), (61268,), (15318,))"
      ]
     },
     "execution_count": 11,
     "metadata": {},
     "output_type": "execute_result"
    }
   ],
   "source": [
    "X = df.drop(columns=\"price\").copy()\n",
    "y = df[\"price\"].copy()\n",
    "\n",
    "X_train, X_test, y_train, y_test = train_test_split(X, y, test_size=0.2, random_state=42)\n",
    "X_train.shape, X_test.shape, y_train.shape, y_test.shape"
   ]
  },
  {
   "cell_type": "markdown",
   "id": "b96babcb",
   "metadata": {},
   "source": [
    "# pipeline"
   ]
  },
  {
   "cell_type": "code",
   "execution_count": 27,
   "id": "781bcf02",
   "metadata": {},
   "outputs": [
    {
     "data": {
      "text/html": [
       "<div>\n",
       "<style scoped>\n",
       "    .dataframe tbody tr th:only-of-type {\n",
       "        vertical-align: middle;\n",
       "    }\n",
       "\n",
       "    .dataframe tbody tr th {\n",
       "        vertical-align: top;\n",
       "    }\n",
       "\n",
       "    .dataframe thead th {\n",
       "        text-align: right;\n",
       "    }\n",
       "</style>\n",
       "<table border=\"1\" class=\"dataframe\">\n",
       "  <thead>\n",
       "    <tr style=\"text-align: right;\">\n",
       "      <th></th>\n",
       "      <th>model</th>\n",
       "      <th>year</th>\n",
       "      <th>transmission</th>\n",
       "      <th>mileage</th>\n",
       "      <th>fuelType</th>\n",
       "      <th>tax</th>\n",
       "      <th>mpg</th>\n",
       "      <th>engineSize</th>\n",
       "    </tr>\n",
       "  </thead>\n",
       "  <tbody>\n",
       "    <tr>\n",
       "      <th>30718</th>\n",
       "      <td>C Class</td>\n",
       "      <td>2018</td>\n",
       "      <td>Semi-Auto</td>\n",
       "      <td>10798</td>\n",
       "      <td>Diesel</td>\n",
       "      <td>120.256183</td>\n",
       "      <td>55.166825</td>\n",
       "      <td>2.0</td>\n",
       "    </tr>\n",
       "    <tr>\n",
       "      <th>19353</th>\n",
       "      <td>Crossland X</td>\n",
       "      <td>2019</td>\n",
       "      <td>Manual</td>\n",
       "      <td>8971</td>\n",
       "      <td>Petrol</td>\n",
       "      <td>145.000000</td>\n",
       "      <td>44.800000</td>\n",
       "      <td>1.2</td>\n",
       "    </tr>\n",
       "    <tr>\n",
       "      <th>32951</th>\n",
       "      <td>Focus</td>\n",
       "      <td>2017</td>\n",
       "      <td>Manual</td>\n",
       "      <td>28001</td>\n",
       "      <td>Petrol</td>\n",
       "      <td>120.256183</td>\n",
       "      <td>55.166825</td>\n",
       "      <td>1.0</td>\n",
       "    </tr>\n",
       "    <tr>\n",
       "      <th>29920</th>\n",
       "      <td>C Class</td>\n",
       "      <td>2015</td>\n",
       "      <td>Manual</td>\n",
       "      <td>43927</td>\n",
       "      <td>Diesel</td>\n",
       "      <td>120.256183</td>\n",
       "      <td>55.166825</td>\n",
       "      <td>2.1</td>\n",
       "    </tr>\n",
       "    <tr>\n",
       "      <th>75671</th>\n",
       "      <td>Aygo</td>\n",
       "      <td>2017</td>\n",
       "      <td>Manual</td>\n",
       "      <td>31245</td>\n",
       "      <td>Petrol</td>\n",
       "      <td>145.000000</td>\n",
       "      <td>68.900000</td>\n",
       "      <td>1.0</td>\n",
       "    </tr>\n",
       "  </tbody>\n",
       "</table>\n",
       "</div>"
      ],
      "text/plain": [
       "             model  year transmission  mileage fuelType         tax  \\\n",
       "30718      C Class  2018    Semi-Auto    10798   Diesel  120.256183   \n",
       "19353  Crossland X  2019       Manual     8971   Petrol  145.000000   \n",
       "32951        Focus  2017       Manual    28001   Petrol  120.256183   \n",
       "29920      C Class  2015       Manual    43927   Diesel  120.256183   \n",
       "75671         Aygo  2017       Manual    31245   Petrol  145.000000   \n",
       "\n",
       "             mpg  engineSize  \n",
       "30718  55.166825         2.0  \n",
       "19353  44.800000         1.2  \n",
       "32951  55.166825         1.0  \n",
       "29920  55.166825         2.1  \n",
       "75671  68.900000         1.0  "
      ]
     },
     "execution_count": 27,
     "metadata": {},
     "output_type": "execute_result"
    }
   ],
   "source": [
    "X_train.head()"
   ]
  },
  {
   "cell_type": "code",
   "execution_count": 36,
   "id": "30f4ebd2",
   "metadata": {},
   "outputs": [],
   "source": [
    "num_pipe = make_pipeline(KNNImputer(n_neighbors=5), StandardScaler())\n",
    "cat_pipe = make_pipeline(SimpleImputer(strategy=\"most_frequent\"), OneHotEncoder(handle_unknown=\"ignore\"))\n",
    "\n",
    "preprocesor = make_column_transformer(\n",
    "    (num_pipe, X_train.select_dtypes(include=[\"int64\", \"float64\"]).columns),\n",
    "    (cat_pipe, X_train.select_dtypes(include=[\"object\"]).columns)\n",
    ")\n",
    "\n",
    "pipeline_model = make_pipeline(preprocesor, LinearRegression(n_jobs=-1, normalize=True))"
   ]
  },
  {
   "cell_type": "markdown",
   "id": "e5a24fd2",
   "metadata": {},
   "source": [
    "# training"
   ]
  },
  {
   "cell_type": "code",
   "execution_count": 38,
   "id": "70195357",
   "metadata": {},
   "outputs": [
    {
     "data": {
      "text/plain": [
       "{'memory': None,\n",
       " 'steps': [('columntransformer',\n",
       "   ColumnTransformer(transformers=[('pipeline-1',\n",
       "                                    Pipeline(steps=[('knnimputer', KNNImputer()),\n",
       "                                                    ('standardscaler',\n",
       "                                                     StandardScaler())]),\n",
       "                                    Index(['year', 'mileage', 'tax', 'mpg', 'engineSize'], dtype='object')),\n",
       "                                   ('pipeline-2',\n",
       "                                    Pipeline(steps=[('simpleimputer',\n",
       "                                                     SimpleImputer(strategy='most_frequent')),\n",
       "                                                    ('onehotencoder',\n",
       "                                                     OneHotEncoder(handle_unknown='ignore'))]),\n",
       "                                    Index(['model', 'transmission', 'fuelType'], dtype='object'))])),\n",
       "  ('linearregression', LinearRegression(n_jobs=-1, normalize=True))],\n",
       " 'verbose': False,\n",
       " 'columntransformer': ColumnTransformer(transformers=[('pipeline-1',\n",
       "                                  Pipeline(steps=[('knnimputer', KNNImputer()),\n",
       "                                                  ('standardscaler',\n",
       "                                                   StandardScaler())]),\n",
       "                                  Index(['year', 'mileage', 'tax', 'mpg', 'engineSize'], dtype='object')),\n",
       "                                 ('pipeline-2',\n",
       "                                  Pipeline(steps=[('simpleimputer',\n",
       "                                                   SimpleImputer(strategy='most_frequent')),\n",
       "                                                  ('onehotencoder',\n",
       "                                                   OneHotEncoder(handle_unknown='ignore'))]),\n",
       "                                  Index(['model', 'transmission', 'fuelType'], dtype='object'))]),\n",
       " 'linearregression': LinearRegression(n_jobs=-1, normalize=True),\n",
       " 'columntransformer__n_jobs': None,\n",
       " 'columntransformer__remainder': 'drop',\n",
       " 'columntransformer__sparse_threshold': 0.3,\n",
       " 'columntransformer__transformer_weights': None,\n",
       " 'columntransformer__transformers': [('pipeline-1',\n",
       "   Pipeline(steps=[('knnimputer', KNNImputer()),\n",
       "                   ('standardscaler', StandardScaler())]),\n",
       "   Index(['year', 'mileage', 'tax', 'mpg', 'engineSize'], dtype='object')),\n",
       "  ('pipeline-2',\n",
       "   Pipeline(steps=[('simpleimputer', SimpleImputer(strategy='most_frequent')),\n",
       "                   ('onehotencoder', OneHotEncoder(handle_unknown='ignore'))]),\n",
       "   Index(['model', 'transmission', 'fuelType'], dtype='object'))],\n",
       " 'columntransformer__verbose': False,\n",
       " 'columntransformer__pipeline-1': Pipeline(steps=[('knnimputer', KNNImputer()),\n",
       "                 ('standardscaler', StandardScaler())]),\n",
       " 'columntransformer__pipeline-2': Pipeline(steps=[('simpleimputer', SimpleImputer(strategy='most_frequent')),\n",
       "                 ('onehotencoder', OneHotEncoder(handle_unknown='ignore'))]),\n",
       " 'columntransformer__pipeline-1__memory': None,\n",
       " 'columntransformer__pipeline-1__steps': [('knnimputer', KNNImputer()),\n",
       "  ('standardscaler', StandardScaler())],\n",
       " 'columntransformer__pipeline-1__verbose': False,\n",
       " 'columntransformer__pipeline-1__knnimputer': KNNImputer(),\n",
       " 'columntransformer__pipeline-1__standardscaler': StandardScaler(),\n",
       " 'columntransformer__pipeline-1__knnimputer__add_indicator': False,\n",
       " 'columntransformer__pipeline-1__knnimputer__copy': True,\n",
       " 'columntransformer__pipeline-1__knnimputer__metric': 'nan_euclidean',\n",
       " 'columntransformer__pipeline-1__knnimputer__missing_values': nan,\n",
       " 'columntransformer__pipeline-1__knnimputer__n_neighbors': 5,\n",
       " 'columntransformer__pipeline-1__knnimputer__weights': 'uniform',\n",
       " 'columntransformer__pipeline-1__standardscaler__copy': True,\n",
       " 'columntransformer__pipeline-1__standardscaler__with_mean': True,\n",
       " 'columntransformer__pipeline-1__standardscaler__with_std': True,\n",
       " 'columntransformer__pipeline-2__memory': None,\n",
       " 'columntransformer__pipeline-2__steps': [('simpleimputer',\n",
       "   SimpleImputer(strategy='most_frequent')),\n",
       "  ('onehotencoder', OneHotEncoder(handle_unknown='ignore'))],\n",
       " 'columntransformer__pipeline-2__verbose': False,\n",
       " 'columntransformer__pipeline-2__simpleimputer': SimpleImputer(strategy='most_frequent'),\n",
       " 'columntransformer__pipeline-2__onehotencoder': OneHotEncoder(handle_unknown='ignore'),\n",
       " 'columntransformer__pipeline-2__simpleimputer__add_indicator': False,\n",
       " 'columntransformer__pipeline-2__simpleimputer__copy': True,\n",
       " 'columntransformer__pipeline-2__simpleimputer__fill_value': None,\n",
       " 'columntransformer__pipeline-2__simpleimputer__missing_values': nan,\n",
       " 'columntransformer__pipeline-2__simpleimputer__strategy': 'most_frequent',\n",
       " 'columntransformer__pipeline-2__simpleimputer__verbose': 0,\n",
       " 'columntransformer__pipeline-2__onehotencoder__categories': 'auto',\n",
       " 'columntransformer__pipeline-2__onehotencoder__drop': None,\n",
       " 'columntransformer__pipeline-2__onehotencoder__dtype': numpy.float64,\n",
       " 'columntransformer__pipeline-2__onehotencoder__handle_unknown': 'ignore',\n",
       " 'columntransformer__pipeline-2__onehotencoder__sparse': True,\n",
       " 'linearregression__copy_X': True,\n",
       " 'linearregression__fit_intercept': True,\n",
       " 'linearregression__n_jobs': -1,\n",
       " 'linearregression__normalize': True,\n",
       " 'linearregression__positive': False}"
      ]
     },
     "execution_count": 38,
     "metadata": {},
     "output_type": "execute_result"
    }
   ],
   "source": [
    "pipeline_model.get_params()"
   ]
  },
  {
   "cell_type": "code",
   "execution_count": 39,
   "id": "ddd3f90c",
   "metadata": {},
   "outputs": [
    {
     "name": "stdout",
     "output_type": "stream",
     "text": [
      "Fitting 4 folds for each of 2 candidates, totalling 8 fits\n"
     ]
    },
    {
     "data": {
      "text/plain": [
       "RandomizedSearchCV(cv=4,\n",
       "                   estimator=Pipeline(steps=[('columntransformer',\n",
       "                                              ColumnTransformer(transformers=[('pipeline-1',\n",
       "                                                                               Pipeline(steps=[('knnimputer',\n",
       "                                                                                                KNNImputer()),\n",
       "                                                                                               ('standardscaler',\n",
       "                                                                                                StandardScaler())]),\n",
       "                                                                               Index(['year', 'mileage', 'tax', 'mpg', 'engineSize'], dtype='object')),\n",
       "                                                                              ('pipeline-2',\n",
       "                                                                               Pipeline(steps=[('simpleimputer',\n",
       "                                                                                                SimpleImputer(strategy='most_frequent')),\n",
       "                                                                                               ('onehotencoder',\n",
       "                                                                                                OneHotEncoder(handle_unknown='ignore'))]),\n",
       "                                                                               Index(['model', 'transmission', 'fuelType'], dtype='object'))])),\n",
       "                                             ('linearregression',\n",
       "                                              LinearRegression(n_jobs=-1,\n",
       "                                                               normalize=True))]),\n",
       "                   n_jobs=-1,\n",
       "                   param_distributions={'linearregression__normalize': [True,\n",
       "                                                                        False]},\n",
       "                   random_state=42, verbose=3)"
      ]
     },
     "execution_count": 39,
     "metadata": {},
     "output_type": "execute_result"
    }
   ],
   "source": [
    "params_tune = {\n",
    "     'linearregression__normalize': [True, False]\n",
    "}\n",
    "\n",
    "model = RandomizedSearchCV(pipeline_model, params_tune, cv=4, n_iter=10, n_jobs=-1, verbose=3, random_state=42)\n",
    "model.fit(X_train, y_train)"
   ]
  },
  {
   "cell_type": "code",
   "execution_count": 40,
   "id": "483e8683",
   "metadata": {},
   "outputs": [
    {
     "data": {
      "text/plain": [
       "{'linearregression__normalize': False}"
      ]
     },
     "execution_count": 40,
     "metadata": {},
     "output_type": "execute_result"
    }
   ],
   "source": [
    "model.best_params_"
   ]
  },
  {
   "cell_type": "code",
   "execution_count": 42,
   "id": "dc014e4d",
   "metadata": {},
   "outputs": [
    {
     "data": {
      "text/plain": [
       "(0.8953969325320684, 0.8922710134533144)"
      ]
     },
     "execution_count": 42,
     "metadata": {},
     "output_type": "execute_result"
    }
   ],
   "source": [
    "model.score(X_train, y_train), model.score(X_test, y_test)"
   ]
  },
  {
   "cell_type": "code",
   "execution_count": null,
   "id": "cb181197",
   "metadata": {},
   "outputs": [],
   "source": []
  }
 ],
 "metadata": {
  "kernelspec": {
   "display_name": "Python 3 (ipykernel)",
   "language": "python",
   "name": "python3"
  },
  "language_info": {
   "codemirror_mode": {
    "name": "ipython",
    "version": 3
   },
   "file_extension": ".py",
   "mimetype": "text/x-python",
   "name": "python",
   "nbconvert_exporter": "python",
   "pygments_lexer": "ipython3",
   "version": "3.9.5"
  }
 },
 "nbformat": 4,
 "nbformat_minor": 5
}
