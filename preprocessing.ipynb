{
 "cells": [
  {
   "cell_type": "code",
   "execution_count": 41,
   "id": "8da43064",
   "metadata": {},
   "outputs": [],
   "source": [
    "from warnings import filterwarnings\n",
    "filterwarnings(\"ignore\")\n",
    "\n",
    "import pandas as pd\n",
    "import numpy as np\n",
    "import matplotlib.pyplot as plt\n",
    "import seaborn as sns\n",
    "sns.set_context(\"talk\")\n",
    "\n",
    "from glob import glob\n",
    "\n",
    "from sklearn.impute import KNNImputer"
   ]
  },
  {
   "cell_type": "markdown",
   "id": "ffa8d525",
   "metadata": {},
   "source": [
    "# import Dataset"
   ]
  },
  {
   "cell_type": "code",
   "execution_count": 28,
   "id": "aca6e570",
   "metadata": {},
   "outputs": [
    {
     "data": {
      "text/plain": [
       "['dataset\\\\data1.csv',\n",
       " 'dataset\\\\data10.csv',\n",
       " 'dataset\\\\data11.csv',\n",
       " 'dataset\\\\data2.csv',\n",
       " 'dataset\\\\data3.csv',\n",
       " 'dataset\\\\data4.csv',\n",
       " 'dataset\\\\data5.csv',\n",
       " 'dataset\\\\data6.csv',\n",
       " 'dataset\\\\data7.csv',\n",
       " 'dataset\\\\data8.csv',\n",
       " 'dataset\\\\data9.csv']"
      ]
     },
     "execution_count": 28,
     "metadata": {},
     "output_type": "execute_result"
    }
   ],
   "source": [
    "car_files = sorted(glob(\"dataset/data*.csv\"))\n",
    "car_files"
   ]
  },
  {
   "cell_type": "code",
   "execution_count": 35,
   "id": "c1476718",
   "metadata": {},
   "outputs": [],
   "source": [
    "df = pd.concat((pd.read_csv(file) for file in car_files), ignore_index=True).drop(columns=\"tax(£)\")"
   ]
  },
  {
   "cell_type": "markdown",
   "id": "a5eb66bb",
   "metadata": {},
   "source": [
    "# fill missing value"
   ]
  },
  {
   "cell_type": "code",
   "execution_count": 42,
   "id": "487f080e",
   "metadata": {},
   "outputs": [],
   "source": [
    "knnim = KNNImputer(n_neighbors=15)"
   ]
  },
  {
   "cell_type": "code",
   "execution_count": 51,
   "id": "d5a78b94",
   "metadata": {},
   "outputs": [],
   "source": [
    "df[[\"tax\", \"mpg\"]] = knnim.fit_transform(df[[\"tax\", \"mpg\"]])"
   ]
  },
  {
   "cell_type": "code",
   "execution_count": 53,
   "id": "451a1a39",
   "metadata": {},
   "outputs": [
    {
     "data": {
      "text/plain": [
       "model           0\n",
       "year            0\n",
       "price           0\n",
       "transmission    0\n",
       "mileage         0\n",
       "fuelType        0\n",
       "tax             0\n",
       "mpg             0\n",
       "engineSize      0\n",
       "dtype: int64"
      ]
     },
     "execution_count": 53,
     "metadata": {},
     "output_type": "execute_result"
    }
   ],
   "source": [
    "df.isna().sum()"
   ]
  },
  {
   "cell_type": "markdown",
   "id": "d40569e6",
   "metadata": {},
   "source": [
    "# save ke csv"
   ]
  },
  {
   "cell_type": "code",
   "execution_count": 55,
   "id": "85e7920c",
   "metadata": {},
   "outputs": [
    {
     "name": "stdout",
     "output_type": "stream",
     "text": [
      "<class 'pandas.core.frame.DataFrame'>\n",
      "RangeIndex: 108540 entries, 0 to 108539\n",
      "Data columns (total 9 columns):\n",
      " #   Column        Non-Null Count   Dtype  \n",
      "---  ------        --------------   -----  \n",
      " 0   model         108540 non-null  object \n",
      " 1   year          108540 non-null  int64  \n",
      " 2   price         108540 non-null  int64  \n",
      " 3   transmission  108540 non-null  object \n",
      " 4   mileage       108540 non-null  int64  \n",
      " 5   fuelType      108540 non-null  object \n",
      " 6   tax           108540 non-null  float64\n",
      " 7   mpg           108540 non-null  float64\n",
      " 8   engineSize    108540 non-null  float64\n",
      "dtypes: float64(3), int64(3), object(3)\n",
      "memory usage: 7.5+ MB\n"
     ]
    }
   ],
   "source": [
    "df.info()"
   ]
  },
  {
   "cell_type": "code",
   "execution_count": 56,
   "id": "1909fba9",
   "metadata": {},
   "outputs": [
    {
     "data": {
      "text/html": [
       "<div>\n",
       "<style scoped>\n",
       "    .dataframe tbody tr th:only-of-type {\n",
       "        vertical-align: middle;\n",
       "    }\n",
       "\n",
       "    .dataframe tbody tr th {\n",
       "        vertical-align: top;\n",
       "    }\n",
       "\n",
       "    .dataframe thead th {\n",
       "        text-align: right;\n",
       "    }\n",
       "</style>\n",
       "<table border=\"1\" class=\"dataframe\">\n",
       "  <thead>\n",
       "    <tr style=\"text-align: right;\">\n",
       "      <th></th>\n",
       "      <th>model</th>\n",
       "      <th>year</th>\n",
       "      <th>price</th>\n",
       "      <th>transmission</th>\n",
       "      <th>mileage</th>\n",
       "      <th>fuelType</th>\n",
       "      <th>tax</th>\n",
       "      <th>mpg</th>\n",
       "      <th>engineSize</th>\n",
       "    </tr>\n",
       "  </thead>\n",
       "  <tbody>\n",
       "    <tr>\n",
       "      <th>0</th>\n",
       "      <td>A1</td>\n",
       "      <td>2017</td>\n",
       "      <td>12500</td>\n",
       "      <td>Manual</td>\n",
       "      <td>15735</td>\n",
       "      <td>Petrol</td>\n",
       "      <td>150.0</td>\n",
       "      <td>55.4</td>\n",
       "      <td>1.4</td>\n",
       "    </tr>\n",
       "    <tr>\n",
       "      <th>1</th>\n",
       "      <td>A6</td>\n",
       "      <td>2016</td>\n",
       "      <td>16500</td>\n",
       "      <td>Automatic</td>\n",
       "      <td>36203</td>\n",
       "      <td>Diesel</td>\n",
       "      <td>20.0</td>\n",
       "      <td>64.2</td>\n",
       "      <td>2.0</td>\n",
       "    </tr>\n",
       "    <tr>\n",
       "      <th>2</th>\n",
       "      <td>A1</td>\n",
       "      <td>2016</td>\n",
       "      <td>11000</td>\n",
       "      <td>Manual</td>\n",
       "      <td>29946</td>\n",
       "      <td>Petrol</td>\n",
       "      <td>30.0</td>\n",
       "      <td>55.4</td>\n",
       "      <td>1.4</td>\n",
       "    </tr>\n",
       "    <tr>\n",
       "      <th>3</th>\n",
       "      <td>A4</td>\n",
       "      <td>2017</td>\n",
       "      <td>16800</td>\n",
       "      <td>Automatic</td>\n",
       "      <td>25952</td>\n",
       "      <td>Diesel</td>\n",
       "      <td>145.0</td>\n",
       "      <td>67.3</td>\n",
       "      <td>2.0</td>\n",
       "    </tr>\n",
       "    <tr>\n",
       "      <th>4</th>\n",
       "      <td>A3</td>\n",
       "      <td>2019</td>\n",
       "      <td>17300</td>\n",
       "      <td>Manual</td>\n",
       "      <td>1998</td>\n",
       "      <td>Petrol</td>\n",
       "      <td>145.0</td>\n",
       "      <td>49.6</td>\n",
       "      <td>1.0</td>\n",
       "    </tr>\n",
       "  </tbody>\n",
       "</table>\n",
       "</div>"
      ],
      "text/plain": [
       "  model  year  price transmission  mileage fuelType    tax   mpg  engineSize\n",
       "0    A1  2017  12500       Manual    15735   Petrol  150.0  55.4         1.4\n",
       "1    A6  2016  16500    Automatic    36203   Diesel   20.0  64.2         2.0\n",
       "2    A1  2016  11000       Manual    29946   Petrol   30.0  55.4         1.4\n",
       "3    A4  2017  16800    Automatic    25952   Diesel  145.0  67.3         2.0\n",
       "4    A3  2019  17300       Manual     1998   Petrol  145.0  49.6         1.0"
      ]
     },
     "execution_count": 56,
     "metadata": {},
     "output_type": "execute_result"
    }
   ],
   "source": [
    "df.head()"
   ]
  },
  {
   "cell_type": "code",
   "execution_count": 57,
   "id": "d62fe3a6",
   "metadata": {},
   "outputs": [],
   "source": [
    "df.to_csv(\"dataset/dataCarUsed.csv\", index=False)"
   ]
  },
  {
   "cell_type": "code",
   "execution_count": null,
   "id": "3f51d7be",
   "metadata": {},
   "outputs": [],
   "source": []
  }
 ],
 "metadata": {
  "kernelspec": {
   "display_name": "Python 3 (ipykernel)",
   "language": "python",
   "name": "python3"
  },
  "language_info": {
   "codemirror_mode": {
    "name": "ipython",
    "version": 3
   },
   "file_extension": ".py",
   "mimetype": "text/x-python",
   "name": "python",
   "nbconvert_exporter": "python",
   "pygments_lexer": "ipython3",
   "version": "3.9.5"
  }
 },
 "nbformat": 4,
 "nbformat_minor": 5
}
